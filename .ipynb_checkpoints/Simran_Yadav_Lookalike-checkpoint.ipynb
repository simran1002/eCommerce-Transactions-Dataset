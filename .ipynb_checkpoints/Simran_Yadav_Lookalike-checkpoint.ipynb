{
 "cells": [
  {
   "cell_type": "markdown",
   "metadata": {},
   "source": [
    "Task 2: Lookalike Model"
   ]
  },
  {
   "cell_type": "markdown",
   "metadata": {},
   "source": [
    "Step 1: Data Preprocessing"
   ]
  },
  {
   "cell_type": "code",
   "execution_count": 3,
   "metadata": {
    "vscode": {
     "languageId": "plaintext"
    }
   },
   "outputs": [
    {
     "name": "stdout",
     "output_type": "stream",
     "text": [
      "Lookalike Model Created Successfully!\n"
     ]
    }
   ],
   "source": [
    "import pandas as pd\n",
    "from sklearn.preprocessing import StandardScaler\n",
    "from sklearn.metrics.pairwise import cosine_similarity\n",
    "\n",
    "customers = pd.read_csv(\"Customers.csv\")\n",
    "products = pd.read_csv(\"Products.csv\")\n",
    "transactions = pd.read_csv(\"Transactions.csv\")\n",
    "\n",
    "customer_transactions = customers.merge(transactions.groupby('CustomerID').agg(\n",
    "    TotalSpend=('TotalValue', 'sum'),  # Total value of transactions for the customer\n",
    "    TransactionCount=('TransactionID', 'count')  # Number of transactions\n",
    ").reset_index(), on='CustomerID')\n",
    "\n",
    "scaler = StandardScaler()\n",
    "scaled_features = scaler.fit_transform(customer_transactions[['TotalSpend', 'TransactionCount']])\n",
    "\n",
    "cosine_sim = cosine_similarity(scaled_features)\n",
    "\n",
    "lookalike_dict = {}\n",
    "\n",
    "for i in range(20):  # First 20 customers\n",
    "    customer_id = customer_transactions.iloc[i]['CustomerID']\n",
    "    \n",
    "    similarity_scores = list(enumerate(cosine_sim[i]))\n",
    "    similarity_scores = sorted(similarity_scores, key=lambda x: x[1], reverse=True)\n",
    "    \n",
    "    top_3_similar_customers = [(customer_transactions.iloc[j[0]]['CustomerID'], j[1]) for j in similarity_scores[1:4]]\n",
    "    \n",
    "    lookalike_dict[customer_id] = top_3_similar_customers\n",
    "\n",
    "lookalike_data = []\n",
    "\n",
    "for customer_id, similar_customers in lookalike_dict.items():\n",
    "    for similar_customer in similar_customers:\n",
    "        lookalike_data.append([customer_id, similar_customer[0], similar_customer[1]])\n",
    "\n",
    "lookalike_df = pd.DataFrame(lookalike_data, columns=['CustomerID', 'Lookalike_CustomerID', 'Similarity_Score'])\n",
    "\n",
    "lookalike_df.to_csv('Lookalike.csv', index=False)\n",
    "\n",
    "print(\"Lookalike Model Created Successfully!\")\n"
   ]
  }
 ],
 "metadata": {
  "kernelspec": {
   "display_name": "Python 3 (ipykernel)",
   "language": "python",
   "name": "python3"
  },
  "language_info": {
   "codemirror_mode": {
    "name": "ipython",
    "version": 3
   },
   "file_extension": ".py",
   "mimetype": "text/x-python",
   "name": "python",
   "nbconvert_exporter": "python",
   "pygments_lexer": "ipython3",
   "version": "3.10.11"
  }
 },
 "nbformat": 4,
 "nbformat_minor": 4
}
